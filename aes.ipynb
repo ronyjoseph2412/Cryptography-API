{
 "cells": [
  {
   "cell_type": "code",
   "execution_count": 6,
   "metadata": {},
   "outputs": [
    {
     "name": "stdout",
     "output_type": "stream",
     "text": [
      "b'\\x85\\xfcR\\x99\\x8f~k\\xb6_O\\xd5\\xe5/\\tbK'\n",
      "Cipher text: b'\\xc1\\xb5X\\xee\\xd8R\\x07%rpbu3T\\x15\\x15\\x0f\\xf9\\x15\\xcc\\x10.\\x1d\\\\%\\xed\\xec=rb'\n"
     ]
    }
   ],
   "source": [
    "# importing AES\n",
    "from Crypto.Cipher import AES\n",
    "\n",
    "# encryption key\n",
    "str_val = '2736604210672965'\n",
    "key = str_val.encode()\n",
    "\n",
    "# create new instance of cipher\n",
    "cipher = AES.new(key, AES.MODE_EAX)\n",
    "\n",
    "# data to be encrypted\n",
    "data = \"images/Group-1/Background1.jpg\".encode()\n",
    "\n",
    "# nonce is a random value generated each time we instantiate the cipher using new()\n",
    "nonce = cipher.nonce\n",
    "print(nonce)\n",
    "# encrypt the data\n",
    "ciphertext = cipher.encrypt(data)\n",
    "\n",
    "# print the encrypted data\n",
    "print(\"Cipher text:\", ciphertext)"
   ]
  },
  {
   "cell_type": "code",
   "execution_count": 11,
   "metadata": {},
   "outputs": [
    {
     "name": "stdout",
     "output_type": "stream",
     "text": [
      "Plain text: b'/media/images/Background1_LIQpDzj.jpg'\n"
     ]
    },
    {
     "data": {
      "text/plain": [
       "str"
      ]
     },
     "execution_count": 11,
     "metadata": {},
     "output_type": "execute_result"
    }
   ],
   "source": [
    "# generate new instance with the key and nonce same as encryption cipher\n",
    "ciphertext = b\"\\xc3\\xdf\\x02'\\xe3\\xc7\\xbf\\xc12\\xbbS@9\\xa9\\xcaLy\\xbd\\x9f\\x1bB*\\xf6\\xf0\\xe2~<Dx\\xa8\\x90\\xb6K\\xcd&\\xb7\\xc1\"\n",
    "nonce = b'\\xbc\\xe3\\xc2\\x13\\xb3\\xb2-E\\xe9\\xacGD=/A\\xcf'\n",
    "cipher = AES.new(key, AES.MODE_EAX, nonce=nonce)\n",
    "# decrypt the data\n",
    "plaintext = cipher.decrypt(ciphertext)\n",
    "print(\"Plain text:\", plaintext)\n",
    "type(plaintext.decode())"
   ]
  }
 ],
 "metadata": {
  "kernelspec": {
   "display_name": "Python 3.9.12 ('iisc')",
   "language": "python",
   "name": "python3"
  },
  "language_info": {
   "codemirror_mode": {
    "name": "ipython",
    "version": 3
   },
   "file_extension": ".py",
   "mimetype": "text/x-python",
   "name": "python",
   "nbconvert_exporter": "python",
   "pygments_lexer": "ipython3",
   "version": "3.9.13"
  },
  "orig_nbformat": 4,
  "vscode": {
   "interpreter": {
    "hash": "5d8d71f8a2dcc67bdbf84bdcb536c7847c5e75c58d0aa53359ffcdf28956aa85"
   }
  }
 },
 "nbformat": 4,
 "nbformat_minor": 2
}
