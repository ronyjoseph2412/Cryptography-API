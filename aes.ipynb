{
 "cells": [
  {
   "cell_type": "code",
   "execution_count": 18,
   "metadata": {},
   "outputs": [
    {
     "name": "stdout",
     "output_type": "stream",
     "text": [
      "Cipher text: b\"\\xfc]a\\x10\\xfcD\\x9f'\\xdf\\x00\\xb9H\\x0c5\\xa0\\xcb\\xf8\\x86]#\\xa2g\\x9af#\\xd8c\\xb7\\x12\\x18\"\n"
     ]
    }
   ],
   "source": [
    "# importing AES\n",
    "from Crypto.Cipher import AES\n",
    "\n",
    "# encryption key\n",
    "str_val = '2736604210672965'\n",
    "key = str_val.encode()\n",
    "\n",
    "# create new instance of cipher\n",
    "cipher = AES.new(key, AES.MODE_EAX,nonce=b'2736604210672965')\n",
    "\n",
    "# data to be encrypted\n",
    "data = \"images/Group-1/Background1.jpg\".encode()\n",
    "\n",
    "# nonce is a random value generated each time we instantiate the cipher using new()\n",
    "# nonce = cipher.nonce\n",
    "# print(type(nonce))\n",
    "# encrypt the data\n",
    "ciphertext = cipher.encrypt(data)\n",
    "\n",
    "# print the encrypted data\n",
    "print(\"Cipher text:\", ciphertext)"
   ]
  },
  {
   "cell_type": "code",
   "execution_count": 20,
   "metadata": {},
   "outputs": [
    {
     "name": "stdout",
     "output_type": "stream",
     "text": [
      "Plain text: b'\\xc7K\\x98\\x96\\xe5\\xf7^7\\xa9\\xc1\\x1b\\xf7Ln\\x07\\xda\\xbe\\x8c\\xe18GW/\\xdb\\x1e]\\x83\\xb8\\xb5Y\\xf3S\\xb4\\xebaJ\\x8b'\n"
     ]
    },
    {
     "ename": "UnicodeDecodeError",
     "evalue": "'utf-8' codec can't decode byte 0xc7 in position 0: invalid continuation byte",
     "output_type": "error",
     "traceback": [
      "\u001b[1;31m---------------------------------------------------------------------------\u001b[0m",
      "\u001b[1;31mUnicodeDecodeError\u001b[0m                        Traceback (most recent call last)",
      "\u001b[1;32mt:\\Web_DEV IIITCourse\\crypto\\aes.ipynb Cell 2\u001b[0m in \u001b[0;36m<cell line: 8>\u001b[1;34m()\u001b[0m\n\u001b[0;32m      <a href='vscode-notebook-cell:/t%3A/Web_DEV%20IIITCourse/crypto/aes.ipynb#W1sZmlsZQ%3D%3D?line=5'>6</a>\u001b[0m plaintext \u001b[39m=\u001b[39m cipher\u001b[39m.\u001b[39mdecrypt(ciphertext)\n\u001b[0;32m      <a href='vscode-notebook-cell:/t%3A/Web_DEV%20IIITCourse/crypto/aes.ipynb#W1sZmlsZQ%3D%3D?line=6'>7</a>\u001b[0m \u001b[39mprint\u001b[39m(\u001b[39m\"\u001b[39m\u001b[39mPlain text:\u001b[39m\u001b[39m\"\u001b[39m, plaintext)\n\u001b[1;32m----> <a href='vscode-notebook-cell:/t%3A/Web_DEV%20IIITCourse/crypto/aes.ipynb#W1sZmlsZQ%3D%3D?line=7'>8</a>\u001b[0m \u001b[39mtype\u001b[39m(plaintext\u001b[39m.\u001b[39;49mdecode())\n",
      "\u001b[1;31mUnicodeDecodeError\u001b[0m: 'utf-8' codec can't decode byte 0xc7 in position 0: invalid continuation byte"
     ]
    }
   ],
   "source": [
    "# generate new instance with the key and nonce same as encryption cipher\n",
    "ciphertext = b\"R{\\x98\\xe1|\\xc0\\xeeW\\x04\\xae\\xd7\\xcfmj\\x88S'i\\xd7|\\x97_\\xc0\\xd3Y\\xb4\\xcee\\xd7&\\xeaTp\\x8d\\x1ek\\xa0\"\n",
    "# nonce = b'\\xbc\\xe3\\xc2\\x13\\xb3\\xb2-E\\xe9\\xacGD=/A\\xcf'\n",
    "cipher = AES.new(key, AES.MODE_EAX,nonce=b'2736604210672965')\n",
    "# decrypt the data\n",
    "plaintext = cipher.decrypt(ciphertext)\n",
    "print(\"Plain text:\", plaintext)\n",
    "# type(plaintext.decode())"
   ]
  },
  {
   "cell_type": "code",
   "execution_count": 23,
   "metadata": {},
   "outputs": [
    {
     "name": "stdout",
     "output_type": "stream",
     "text": [
      "The plain text is :  I see you\n"
     ]
    },
    {
     "ename": "TypeError",
     "evalue": "Object type <class 'str'> cannot be passed to C code",
     "output_type": "error",
     "traceback": [
      "\u001b[1;31m---------------------------------------------------------------------------\u001b[0m",
      "\u001b[1;31mTypeError\u001b[0m                                 Traceback (most recent call last)",
      "\u001b[1;32mt:\\Web_DEV IIITCourse\\crypto\\aes.ipynb Cell 3\u001b[0m in \u001b[0;36m<cell line: 17>\u001b[1;34m()\u001b[0m\n\u001b[0;32m     <a href='vscode-notebook-cell:/t%3A/Web_DEV%20IIITCourse/crypto/aes.ipynb#W2sZmlsZQ%3D%3D?line=14'>15</a>\u001b[0m \u001b[39mprint\u001b[39m(\u001b[39m\"\u001b[39m\u001b[39mThe plain text is : \u001b[39m\u001b[39m\"\u001b[39m,plain_text)\n\u001b[0;32m     <a href='vscode-notebook-cell:/t%3A/Web_DEV%20IIITCourse/crypto/aes.ipynb#W2sZmlsZQ%3D%3D?line=15'>16</a>\u001b[0m plain_text \u001b[39m+\u001b[39m\u001b[39m=\u001b[39m \u001b[39m'\u001b[39m\u001b[39m\\x00\u001b[39;00m\u001b[39m'\u001b[39m \u001b[39m*\u001b[39m (\u001b[39m8\u001b[39m \u001b[39m-\u001b[39m \u001b[39mlen\u001b[39m(plain_text) \u001b[39m%\u001b[39m \u001b[39m8\u001b[39m)\n\u001b[1;32m---> <a href='vscode-notebook-cell:/t%3A/Web_DEV%20IIITCourse/crypto/aes.ipynb#W2sZmlsZQ%3D%3D?line=16'>17</a>\u001b[0m ciphertext \u001b[39m=\u001b[39m crypter\u001b[39m.\u001b[39;49mencrypt(plain_text)\n\u001b[0;32m     <a href='vscode-notebook-cell:/t%3A/Web_DEV%20IIITCourse/crypto/aes.ipynb#W2sZmlsZQ%3D%3D?line=17'>18</a>\u001b[0m encode_string\u001b[39m=\u001b[39m base32hex\u001b[39m.\u001b[39mb32encode(ciphertext)\n\u001b[0;32m     <a href='vscode-notebook-cell:/t%3A/Web_DEV%20IIITCourse/crypto/aes.ipynb#W2sZmlsZQ%3D%3D?line=18'>19</a>\u001b[0m \u001b[39mprint\u001b[39m(\u001b[39m\"\u001b[39m\u001b[39mThe encoded string is : \u001b[39m\u001b[39m\"\u001b[39m,encode_string)\n",
      "File \u001b[1;32mc:\\Users\\RONY\\anaconda3\\envs\\iisc\\lib\\site-packages\\Crypto\\Cipher\\_mode_cbc.py:178\u001b[0m, in \u001b[0;36mCbcMode.encrypt\u001b[1;34m(self, plaintext, output)\u001b[0m\n\u001b[0;32m    173\u001b[0m     \u001b[39mif\u001b[39;00m \u001b[39mlen\u001b[39m(plaintext) \u001b[39m!=\u001b[39m \u001b[39mlen\u001b[39m(output):\n\u001b[0;32m    174\u001b[0m         \u001b[39mraise\u001b[39;00m \u001b[39mValueError\u001b[39;00m(\u001b[39m\"\u001b[39m\u001b[39moutput must have the same length as the input\u001b[39m\u001b[39m\"\u001b[39m\n\u001b[0;32m    175\u001b[0m                          \u001b[39m\"\u001b[39m\u001b[39m  (\u001b[39m\u001b[39m%d\u001b[39;00m\u001b[39m bytes)\u001b[39m\u001b[39m\"\u001b[39m \u001b[39m%\u001b[39m \u001b[39mlen\u001b[39m(plaintext))\n\u001b[0;32m    177\u001b[0m result \u001b[39m=\u001b[39m raw_cbc_lib\u001b[39m.\u001b[39mCBC_encrypt(\u001b[39mself\u001b[39m\u001b[39m.\u001b[39m_state\u001b[39m.\u001b[39mget(),\n\u001b[1;32m--> 178\u001b[0m                                  c_uint8_ptr(plaintext),\n\u001b[0;32m    179\u001b[0m                                  c_uint8_ptr(ciphertext),\n\u001b[0;32m    180\u001b[0m                                  c_size_t(\u001b[39mlen\u001b[39m(plaintext)))\n\u001b[0;32m    181\u001b[0m \u001b[39mif\u001b[39;00m result:\n\u001b[0;32m    182\u001b[0m     \u001b[39mif\u001b[39;00m result \u001b[39m==\u001b[39m \u001b[39m3\u001b[39m:\n",
      "File \u001b[1;32mc:\\Users\\RONY\\anaconda3\\envs\\iisc\\lib\\site-packages\\Crypto\\Util\\_raw_api.py:143\u001b[0m, in \u001b[0;36mc_uint8_ptr\u001b[1;34m(data)\u001b[0m\n\u001b[0;32m    141\u001b[0m     \u001b[39mreturn\u001b[39;00m data\n\u001b[0;32m    142\u001b[0m \u001b[39melse\u001b[39;00m:\n\u001b[1;32m--> 143\u001b[0m     \u001b[39mraise\u001b[39;00m \u001b[39mTypeError\u001b[39;00m(\u001b[39m\"\u001b[39m\u001b[39mObject type \u001b[39m\u001b[39m%s\u001b[39;00m\u001b[39m cannot be passed to C code\u001b[39m\u001b[39m\"\u001b[39m \u001b[39m%\u001b[39m \u001b[39mtype\u001b[39m(data))\n",
      "\u001b[1;31mTypeError\u001b[0m: Object type <class 'str'> cannot be passed to C code"
     ]
    }
   ],
   "source": [
    "import base32hex\n",
    "import hashlib\n",
    "from Crypto.Cipher import DES\n",
    "password = \"2736604210672965\"\n",
    "salt = '\\x28\\xAB\\xBC\\xCD\\xDE\\xEF\\x00\\x33'\n",
    "key = password + salt\n",
    "key = key.encode()\n",
    "m = hashlib.md5(key)\n",
    "key = m.digest()\n",
    "(dk, iv) =(key[:8], key[8:])\n",
    "crypter = DES.new(dk, DES.MODE_CBC, iv)\n",
    "\n",
    "plain_text= \"I see you\"\n",
    "\n",
    "print(\"The plain text is : \",plain_text)\n",
    "plain_text += '\\x00' * (8 - len(plain_text) % 8)\n",
    "ciphertext = crypter.encrypt(plain_text)\n",
    "encode_string= base32hex.b32encode(ciphertext)\n",
    "print(\"The encoded string is : \",encode_string)\n"
   ]
  }
 ],
 "metadata": {
  "kernelspec": {
   "display_name": "Python 3.9.12 ('iisc')",
   "language": "python",
   "name": "python3"
  },
  "language_info": {
   "codemirror_mode": {
    "name": "ipython",
    "version": 3
   },
   "file_extension": ".py",
   "mimetype": "text/x-python",
   "name": "python",
   "nbconvert_exporter": "python",
   "pygments_lexer": "ipython3",
   "version": "3.9.13"
  },
  "orig_nbformat": 4,
  "vscode": {
   "interpreter": {
    "hash": "5d8d71f8a2dcc67bdbf84bdcb536c7847c5e75c58d0aa53359ffcdf28956aa85"
   }
  }
 },
 "nbformat": 4,
 "nbformat_minor": 2
}
