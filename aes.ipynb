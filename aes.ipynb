{
 "cells": [
  {
   "cell_type": "code",
   "execution_count": 18,
   "metadata": {},
   "outputs": [
    {
     "name": "stdout",
     "output_type": "stream",
     "text": [
      "Cipher text: b\"\\xfc]a\\x10\\xfcD\\x9f'\\xdf\\x00\\xb9H\\x0c5\\xa0\\xcb\\xf8\\x86]#\\xa2g\\x9af#\\xd8c\\xb7\\x12\\x18\"\n"
     ]
    }
   ],
   "source": [
    "# importing AES\n",
    "from Crypto.Cipher import AES\n",
    "\n",
    "# encryption key\n",
    "str_val = '2736604210672965'\n",
    "key = str_val.encode()\n",
    "\n",
    "# create new instance of cipher\n",
    "cipher = AES.new(key, AES.MODE_EAX,nonce=b'2736604210672965')\n",
    "\n",
    "# data to be encrypted\n",
    "data = \"images/Group-1/Background1.jpg\".encode()\n",
    "\n",
    "# nonce is a random value generated each time we instantiate the cipher using new()\n",
    "# nonce = cipher.nonce\n",
    "# print(type(nonce))\n",
    "# encrypt the data\n",
    "ciphertext = cipher.encrypt(data)\n",
    "\n",
    "# print the encrypted data\n",
    "print(\"Cipher text:\", ciphertext)"
   ]
  },
  {
   "cell_type": "code",
   "execution_count": 20,
   "metadata": {},
   "outputs": [
    {
     "name": "stdout",
     "output_type": "stream",
     "text": [
      "Plain text: b'\\xc7K\\x98\\x96\\xe5\\xf7^7\\xa9\\xc1\\x1b\\xf7Ln\\x07\\xda\\xbe\\x8c\\xe18GW/\\xdb\\x1e]\\x83\\xb8\\xb5Y\\xf3S\\xb4\\xebaJ\\x8b'\n"
     ]
    },
    {
     "ename": "UnicodeDecodeError",
     "evalue": "'utf-8' codec can't decode byte 0xc7 in position 0: invalid continuation byte",
     "output_type": "error",
     "traceback": [
      "\u001b[1;31m---------------------------------------------------------------------------\u001b[0m",
      "\u001b[1;31mUnicodeDecodeError\u001b[0m                        Traceback (most recent call last)",
      "\u001b[1;32mt:\\Web_DEV IIITCourse\\crypto\\aes.ipynb Cell 2\u001b[0m in \u001b[0;36m<cell line: 8>\u001b[1;34m()\u001b[0m\n\u001b[0;32m      <a href='vscode-notebook-cell:/t%3A/Web_DEV%20IIITCourse/crypto/aes.ipynb#W1sZmlsZQ%3D%3D?line=5'>6</a>\u001b[0m plaintext \u001b[39m=\u001b[39m cipher\u001b[39m.\u001b[39mdecrypt(ciphertext)\n\u001b[0;32m      <a href='vscode-notebook-cell:/t%3A/Web_DEV%20IIITCourse/crypto/aes.ipynb#W1sZmlsZQ%3D%3D?line=6'>7</a>\u001b[0m \u001b[39mprint\u001b[39m(\u001b[39m\"\u001b[39m\u001b[39mPlain text:\u001b[39m\u001b[39m\"\u001b[39m, plaintext)\n\u001b[1;32m----> <a href='vscode-notebook-cell:/t%3A/Web_DEV%20IIITCourse/crypto/aes.ipynb#W1sZmlsZQ%3D%3D?line=7'>8</a>\u001b[0m \u001b[39mtype\u001b[39m(plaintext\u001b[39m.\u001b[39;49mdecode())\n",
      "\u001b[1;31mUnicodeDecodeError\u001b[0m: 'utf-8' codec can't decode byte 0xc7 in position 0: invalid continuation byte"
     ]
    }
   ],
   "source": [
    "# generate new instance with the key and nonce same as encryption cipher\n",
    "ciphertext = b\"R{\\x98\\xe1|\\xc0\\xeeW\\x04\\xae\\xd7\\xcfmj\\x88S'i\\xd7|\\x97_\\xc0\\xd3Y\\xb4\\xcee\\xd7&\\xeaTp\\x8d\\x1ek\\xa0\"\n",
    "# nonce = b'\\xbc\\xe3\\xc2\\x13\\xb3\\xb2-E\\xe9\\xacGD=/A\\xcf'\n",
    "cipher = AES.new(key, AES.MODE_EAX,nonce=b'2736604210672965')\n",
    "# decrypt the data\n",
    "plaintext = cipher.decrypt(ciphertext)\n",
    "print(\"Plain text:\", plaintext)\n",
    "# type(plaintext.decode())"
   ]
  }
 ],
 "metadata": {
  "kernelspec": {
   "display_name": "Python 3.9.12 ('iisc')",
   "language": "python",
   "name": "python3"
  },
  "language_info": {
   "codemirror_mode": {
    "name": "ipython",
    "version": 3
   },
   "file_extension": ".py",
   "mimetype": "text/x-python",
   "name": "python",
   "nbconvert_exporter": "python",
   "pygments_lexer": "ipython3",
   "version": "3.9.13"
  },
  "orig_nbformat": 4,
  "vscode": {
   "interpreter": {
    "hash": "5d8d71f8a2dcc67bdbf84bdcb536c7847c5e75c58d0aa53359ffcdf28956aa85"
   }
  }
 },
 "nbformat": 4,
 "nbformat_minor": 2
}
